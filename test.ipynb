{
 "cells": [
  {
   "cell_type": "code",
   "execution_count": 2,
   "id": "ea6b79d3",
   "metadata": {},
   "outputs": [],
   "source": [
    "import pandas as pd\n",
    "import matplotlib.pyplot as plt\n",
    "import numpy as np\n",
    "import os"
   ]
  },
  {
   "cell_type": "code",
   "execution_count": 3,
   "id": "87a3808f",
   "metadata": {},
   "outputs": [
    {
     "data": {
      "text/plain": [
       "['Paper',\n",
       " 'Metal',\n",
       " 'Cardboard',\n",
       " 'Food Organics',\n",
       " 'Glass',\n",
       " 'Vegetation',\n",
       " 'Textile Trash',\n",
       " 'Miscellaneous Trash',\n",
       " 'Plastic']"
      ]
     },
     "execution_count": 3,
     "metadata": {},
     "output_type": "execute_result"
    }
   ],
   "source": [
    "dataPath = \"data/\"\n",
    "os.listdir(dataPath)"
   ]
  },
  {
   "cell_type": "code",
   "execution_count": 4,
   "id": "88291b7d",
   "metadata": {},
   "outputs": [
    {
     "data": {
      "text/plain": [
       "259"
      ]
     },
     "execution_count": 4,
     "metadata": {},
     "output_type": "execute_result"
    }
   ],
   "source": [
    "a = \"Paper_259.jpg\"\n",
    "int(a.strip(\".jpg\").split(\"_\")[1])"
   ]
  },
  {
   "cell_type": "code",
   "execution_count": 5,
   "id": "ed72e9e4",
   "metadata": {},
   "outputs": [],
   "source": [
    "dataPath = \"data/\"\n",
    "\n",
    "df = pd.DataFrame(columns = [\"category\", \"indexInCategory\", \"filePath\"])\n",
    "\n",
    "counter = 0\n",
    "for folderName in os.listdir(dataPath):\n",
    "    folderPath  = os.path.join(dataPath, folderName)\n",
    "    for fileName in os.listdir(folderPath):\n",
    "        \n",
    "        filePath = os.path.join(folderPath, fileName)\n",
    "        category = folderName\n",
    "        indexInCategory = int(fileName.strip(\".jpg\").split(\"_\")[1])\n",
    "        \n",
    "        df.loc[counter] = [category, indexInCategory, filePath]\n",
    "        counter += 1\n",
    "\n",
    "        \n",
    "outputFile = \"data.csv\"\n",
    "\n",
    "if os.path.exists(outputFile):\n",
    "    os.remove(outputFile)\n",
    "    \n",
    "df.to_csv(outputFile, index=False)       \n",
    "    "
   ]
  },
  {
   "cell_type": "code",
   "execution_count": null,
   "id": "af3e5ab6",
   "metadata": {},
   "outputs": [],
   "source": []
  }
 ],
 "metadata": {
  "kernelspec": {
   "display_name": "MLProject",
   "language": "python",
   "name": "python3"
  },
  "language_info": {
   "codemirror_mode": {
    "name": "ipython",
    "version": 3
   },
   "file_extension": ".py",
   "mimetype": "text/x-python",
   "name": "python",
   "nbconvert_exporter": "python",
   "pygments_lexer": "ipython3",
   "version": "3.13.2"
  }
 },
 "nbformat": 4,
 "nbformat_minor": 5
}
