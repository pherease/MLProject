{
 "cells": [
  {
   "cell_type": "code",
   "execution_count": null,
   "id": "fb01a081",
   "metadata": {},
   "outputs": [],
   "source": [
    "import os, random, numpy as np\n",
    "import tensorflow as tf\n",
    "import keras_tuner as kt\n",
    "import matplotlib\n",
    "import matplotlib.pyplot as plt\n",
    "\n",
    "import utils  # your local utils.py\n",
    "\n",
    "from sklearn.utils import class_weight\n",
    "from tensorflow.keras import mixed_precision\n",
    "\n",
    "# Set up reproducibility\n",
    "SEED = 42\n",
    "random.seed(SEED); np.random.seed(SEED); tf.random.set_seed(SEED)\n",
    "\n",
    "# Use mixed precision and GPU memory management like tiny.py\n",
    "mixed_precision.set_global_policy('mixed_float16')\n",
    "matplotlib.use(\"Agg\")\n",
    "gpus = tf.config.list_physical_devices('GPU')\n",
    "if gpus:\n",
    "    tf.config.experimental.set_memory_growth(gpus[0], True)\n"
   ]
  },
  {
   "cell_type": "code",
   "execution_count": null,
   "id": "894299d1",
   "metadata": {},
   "outputs": [],
   "source": [
    "IMG_SIZE = 256\n",
    "BATCH = 2\n",
    "\n",
    "TRAIN_CSV = \"./split_data/train.csv\"\n",
    "VAL_CSV = \"./split_data/val.csv\"\n",
    "TEST_CSV = \"./split_data/test.csv\"\n",
    "\n",
    "train_paths, train_labels, train_label_encoder = utils.load_paths_and_labels(TRAIN_CSV)\n",
    "val_paths, val_labels, val_label_encoder = utils.load_paths_and_labels(VAL_CSV)\n",
    "test_paths, test_labels, test_label_encoder = utils.load_paths_and_labels(TEST_CSV)\n",
    "\n",
    "# Optional: SAMPLE tiny dataset for FAST testing\n",
    "# train_paths, train_labels = train_paths[:20], train_labels[:20]\n",
    "# val_paths, val_labels = val_paths[:10], val_labels[:10]\n",
    "\n",
    "# Show class distributions\n",
    "utils.show_dataset_class_distribution(\"TRAIN\", train_labels)\n",
    "utils.show_dataset_class_distribution(\"VAL  \", val_labels)\n",
    "utils.show_dataset_class_distribution(\"TEST \", test_labels)\n",
    "\n",
    "# Build datasets\n",
    "augment_layer = utils.make_augment()\n",
    "train_ds = utils.make_dataset(train_paths, train_labels, BATCH, shuffle=True, autotune=True)\n",
    "train_ds = train_ds.map(lambda imgs, labs: (augment_layer(imgs, training=True), labs), num_parallel_calls=tf.data.AUTOTUNE)\n",
    "val_ds = utils.make_dataset(val_paths, val_labels, BATCH, shuffle=False, autotune=True)\n"
   ]
  },
  {
   "cell_type": "code",
   "execution_count": null,
   "id": "21ee0c3a",
   "metadata": {},
   "outputs": [],
   "source": [
    "cw_vals = class_weight.compute_class_weight(\n",
    "    class_weight='balanced',\n",
    "    classes=np.unique(train_labels),\n",
    "    y=train_labels\n",
    ")\n",
    "class_w = dict(enumerate(cw_vals))\n"
   ]
  },
  {
   "cell_type": "code",
   "execution_count": null,
   "id": "3a254df1",
   "metadata": {},
   "outputs": [],
   "source": [
    "def build_model(hp):\n",
    "    model = tf.keras.Sequential()\n",
    "    model.add(tf.keras.Input(shape=(IMG_SIZE, IMG_SIZE, 3)))\n",
    "    \n",
    "    for i in range(hp.Int('conv_blocks', 2, 3, default=3)):\n",
    "        filters = hp.Choice(f'filters_{i}', values=[32, 64, 128], default=64)\n",
    "        model.add(tf.keras.layers.Conv2D(filters, (3,3), activation='relu'))\n",
    "        model.add(tf.keras.layers.MaxPooling2D(2,2))\n",
    "    \n",
    "    model.add(tf.keras.layers.Flatten())\n",
    "    model.add(tf.keras.layers.Dropout(hp.Float('dropout_flat', 0.4, 0.6, step=0.1, default=0.5)))\n",
    "    model.add(tf.keras.layers.Dense(hp.Int('dense_units', 64, 192, step=32, default=128), activation='relu'))\n",
    "    model.add(tf.keras.layers.Dropout(hp.Float('dropout_dense', 0.4, 0.6, step=0.1, default=0.5)))\n",
    "    model.add(tf.keras.layers.Dense(len(train_label_encoder.classes_), activation='softmax'))\n",
    "    \n",
    "    lr = hp.Float('learning_rate', 1e-4, 5e-4, sampling='log', default=1e-4)\n",
    "    model.compile(\n",
    "        optimizer=tf.keras.optimizers.Adam(learning_rate=lr),\n",
    "        loss=tf.keras.losses.SparseCategoricalCrossentropy(from_logits=False),\n",
    "        metrics=['accuracy'])\n",
    "    return model\n"
   ]
  },
  {
   "cell_type": "code",
   "execution_count": null,
   "id": "da3c74d9",
   "metadata": {},
   "outputs": [],
   "source": [
    "tuner = kt.Hyperband(\n",
    "    build_model,\n",
    "    objective='val_accuracy',\n",
    "    max_epochs=5,   # FAST: reduce for tests\n",
    "    factor=3,\n",
    "    directory='logs',\n",
    "    project_name='RealWaste_quick_test'\n",
    ")\n"
   ]
  },
  {
   "cell_type": "code",
   "execution_count": null,
   "id": "cc8fcad5",
   "metadata": {},
   "outputs": [],
   "source": [
    "tensorboard_cb = tf.keras.callbacks.TensorBoard(log_dir='logs/tensorboard', histogram_freq=1)\n",
    "tuner.search(\n",
    "    train_ds,\n",
    "    validation_data=val_ds,\n",
    "    class_weight=class_w,\n",
    "    callbacks=[\n",
    "        tensorboard_cb,\n",
    "        utils.checkpoint_cb(),\n",
    "        utils.csv_logger_cb()\n",
    "    ]\n",
    ")\n"
   ]
  },
  {
   "cell_type": "code",
   "execution_count": null,
   "id": "5c3ece17",
   "metadata": {},
   "outputs": [],
   "source": [
    "best_hp = tuner.get_best_hyperparameters(1)[0]\n",
    "print(\"Best hyperparameters found:\")\n",
    "for k, v in best_hp.values.items():\n",
    "    print(f\"{k}: {v}\")\n",
    "\n",
    "best_model = tuner.get_best_models(1)[0]\n",
    "best_model.save(\"best_tuned_trashnet_model.keras\")\n"
   ]
  },
  {
   "cell_type": "code",
   "execution_count": null,
   "id": "db768540",
   "metadata": {},
   "outputs": [],
   "source": []
  }
 ],
 "metadata": {
  "kernelspec": {
   "display_name": "Python 3 (ipykernel)",
   "language": "python",
   "name": "python3"
  },
  "language_info": {
   "codemirror_mode": {
    "name": "ipython",
    "version": 3
   },
   "file_extension": ".py",
   "mimetype": "text/x-python",
   "name": "python",
   "nbconvert_exporter": "python",
   "pygments_lexer": "ipython3",
   "version": "3.12.10"
  }
 },
 "nbformat": 4,
 "nbformat_minor": 5
}
